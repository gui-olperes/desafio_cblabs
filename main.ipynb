{
 "cells": [
  {
   "cell_type": "markdown",
   "id": "ecd7d3af",
   "metadata": {},
   "source": [
    "# Configurações iniciais e extraindo dados do bucket."
   ]
  },
  {
   "cell_type": "code",
   "execution_count": null,
   "id": "a17f6354",
   "metadata": {},
   "outputs": [
    {
     "name": "stdout",
     "output_type": "stream",
     "text": [
      "Dados carregados com sucesso!\n",
      "{'curUTC': '2024-05-05T06:06:06', 'locRef': '99 CB CB', 'guestChecks': [{'guestCheckId': 1122334455, 'chkNum': 1234, 'opnBusDt': '2024-01-01', 'opnUTC': '2024-01-01T09:09:09', 'opnLcl': '2024-01-01T06:09:09', 'clsdBusDt': '2024-01-01', 'clsdUTC': '2024-01-01T12:12:12', 'clsdLcl': '2024-01-01T09:12:12', 'lastTransUTC': '2024-01-01T12:12:12', 'lastTransLcl': '2024-01-01T09:12:12', 'lastUpdatedUTC': '2024-01-01T13:13:13', 'lastUpdatedLcl': '2024-01-01T10:13:13', 'clsdFlag': True, 'gstCnt': 1, 'subTtl': 109.9, 'nonTxblSlsTtl': None, 'chkTtl': 109.9, 'dscTtl': -10, 'payTtl': 109.9, 'balDueTtl': None, 'rvcNum': 101, 'otNum': 1, 'ocNum': None, 'tblNum': 1, 'tblName': '90', 'empNum': 55555, 'numSrvcRd': 3, 'numChkPrntd': 2, 'taxes': [{'taxNum': 28, 'txblSlsTtl': 119.9, 'taxCollTtl': 20.81, 'taxRate': 21, 'type': 3}], 'detailLines': [{'guestCheckLineItemId': 9988776655, 'rvcNum': 123, 'dtlOtNum': 1, 'dtlOcNum': None, 'lineNum': 1, 'dtlId': 1, 'detailUTC': '2024-01-01T09:09:09', 'detailLcl': '2024-01-01T06:09:09', 'lastUpdateUTC': '2024-11-01T10:10:10', 'lastUpdateLcl': '2024-01-01T07:10:10', 'busDt': '2024-01-01', 'wsNum': 7, 'dspTtl': 119.9, 'dspQty': 1, 'aggTtl': 119.9, 'aggQty': 1, 'chkEmpId': 10454318, 'chkEmpNum': 81001, 'svcRndNum': 1, 'seatNum': 1, 'menuItem': {'miNum': 6042, 'modFlag': False, 'inclTax': 20.809091, 'activeTaxes': '28', 'prcLvl': 3}}]}]}\n"
     ]
    }
   ],
   "source": [
    "import requests\n",
    "import json\n",
    "import pymysql\n",
    "import pandas as pd\n",
    "\n",
    "# Inserir as credenciais do banco de dados, menos o nome do banco de dados\n",
    "db_config = {\n",
    "    \"host\": \"\",\n",
    "    \"user\": \"\",\n",
    "    \"password\": \"\",\n",
    "    \"database\": \"cb_labs_db\",\n",
    "}\n",
    "\n",
    "\n",
    "\n",
    "public_url = \"https://storage.googleapis.com/cblabs_datalake/bronze/res_guest_checks/2024/07/24/ERP.json\"\n",
    "\n",
    "response = requests.get(public_url)\n",
    "\n",
    "if response.status_code == 200:\n",
    "    data = json.loads(response.text)\n",
    "    print(\"Dados carregados com sucesso!\")\n",
    "    print(data)\n",
    "else:\n",
    "    print(f\"Erro ao acessar o arquivo: {response.status_code}\")\n",
    "    data = None\n",
    "\n"
   ]
  },
  {
   "cell_type": "markdown",
   "id": "42b0bfdb",
   "metadata": {},
   "source": [
    "# Inserindo dados no MySQL."
   ]
  },
  {
   "cell_type": "code",
   "execution_count": 16,
   "id": "3925d104",
   "metadata": {},
   "outputs": [
    {
     "name": "stdout",
     "output_type": "stream",
     "text": [
      "Dados inseridos com sucesso no MySQL!\n"
     ]
    }
   ],
   "source": [
    "if data:\n",
    "    conn = pymysql.connect(**db_config)\n",
    "    cursor = conn.cursor()\n",
    "\n",
    "    # Inserindo location\n",
    "    loc_ref = data['locRef']\n",
    "    try:\n",
    "        cursor.execute(\n",
    "            \"INSERT IGNORE INTO locations (loc_ref, loc_name) VALUES (%s, %s)\",\n",
    "            (loc_ref, loc_ref)\n",
    "        )\n",
    "    except Exception as e:\n",
    "        print(\"Erro ao inserir location:\", e)\n",
    "\n",
    "    # Inserindo guest_checks \n",
    "    for gc in data['guestChecks']:\n",
    "        try:\n",
    "            cursor.execute(\"\"\"\n",
    "                INSERT IGNORE INTO guest_checks (\n",
    "                    guest_check_id, loc_ref, chk_num, opn_bus_dt, opn_utc, opn_lcl, clsd_bus_dt, clsd_utc, clsd_lcl,\n",
    "                    last_trans_utc, last_trans_lcl, last_updated_utc, last_updated_lcl, clsd_flag, gst_cnt, sub_ttl,\n",
    "                    non_txbl_sls_ttl, chk_ttl, dsc_ttl, pay_ttl, bal_due_ttl, rvc_num, ot_num, oc_num, tbl_num,\n",
    "                    tbl_name, emp_num, num_srvc_rd, num_chk_prntd\n",
    "                ) VALUES (%s, %s, %s, %s, %s, %s, %s, %s, %s, %s, %s, %s, %s, %s, %s, %s, %s, %s, %s, %s, %s, %s, %s, %s, %s, %s, %s, %s, %s)\n",
    "            \"\"\", (\n",
    "                gc['guestCheckId'], loc_ref, gc['chkNum'], gc['opnBusDt'], gc['opnUTC'], gc['opnLcl'],\n",
    "                gc['clsdBusDt'], gc['clsdUTC'], gc['clsdLcl'], gc['lastTransUTC'], gc['lastTransLcl'],\n",
    "                gc['lastUpdatedUTC'], gc['lastUpdatedLcl'], gc['clsdFlag'], gc['gstCnt'], gc['subTtl'],\n",
    "                gc['nonTxblSlsTtl'], gc['chkTtl'], gc['dscTtl'], gc['payTtl'], gc['balDueTtl'], gc['rvcNum'],\n",
    "                gc['otNum'], gc['ocNum'], gc['tblNum'], gc['tblName'], gc['empNum'], gc['numSrvcRd'], gc['numChkPrntd']\n",
    "            ))\n",
    "        except Exception as e:\n",
    "            print(\"Erro ao inserir guest_check:\", e)\n",
    "\n",
    "        # Inserindo taxes\n",
    "        for tax in gc.get('taxes', []):\n",
    "            try:\n",
    "                cursor.execute(\"\"\"\n",
    "                    INSERT INTO taxes (\n",
    "                        guest_check_id, tax_num, txbl_sls_ttl, tax_coll_ttl, tax_rate, type\n",
    "                    ) VALUES (%s, %s, %s, %s, %s, %s)\n",
    "                \"\"\", (\n",
    "                    gc['guestCheckId'], tax['taxNum'], tax['txblSlsTtl'], tax['taxCollTtl'], tax['taxRate'], tax['type']\n",
    "                ))\n",
    "            except Exception as e:\n",
    "                print(\"Erro ao inserir tax:\", e)\n",
    "\n",
    "        # Inserindo detail_lines e menu_items\n",
    "        for dl in gc.get('detailLines', []):\n",
    "            try:\n",
    "                cursor.execute(\"\"\"\n",
    "                    INSERT INTO detail_lines (\n",
    "                        guest_check_line_item_id, guest_check_id, line_item_type, dsp_ttl, seat_num, rvc_num, dtl_ot_num,\n",
    "                        dtl_oc_num, line_num, dtl_id, detail_utc, detail_lcl, last_update_utc, last_update_lcl,\n",
    "                        bus_dt, ws_num, agg_ttl, agg_qty, svc_rnd_num, chk_emp_id, chk_emp_num, dsp_qty\n",
    "                    ) VALUES (%s, %s, %s, %s, %s, %s, %s, %s, %s, %s, %s, %s, %s, %s, %s, %s, %s, %s, %s, %s, %s, %s)\n",
    "                \"\"\", (\n",
    "                    dl['guestCheckLineItemId'], gc['guestCheckId'], 'menu_item', dl['dspTtl'], dl['seatNum'], dl['rvcNum'],\n",
    "                    dl['dtlOtNum'], dl['dtlOcNum'], dl['lineNum'], dl['dtlId'], dl['detailUTC'], dl['detailLcl'],\n",
    "                    dl['lastUpdateUTC'], dl['lastUpdateLcl'], dl['busDt'], dl['wsNum'], dl['aggTtl'], dl['aggQty'],\n",
    "                    dl['svcRndNum'], dl['chkEmpId'], dl['chkEmpNum'], dl['dspQty']\n",
    "                ))\n",
    "                # Inserindo menu_items\n",
    "                menu = dl.get('menuItem')\n",
    "                if menu:\n",
    "                    cursor.execute(\"\"\"\n",
    "                        INSERT INTO menu_items (\n",
    "                            guest_check_line_item_id, mi_num, mod_flag, incl_tax, active_taxes, prc_lvl\n",
    "                        ) VALUES (%s, %s, %s, %s, %s, %s)\n",
    "                    \"\"\", (\n",
    "                        dl['guestCheckLineItemId'], menu['miNum'], menu['modFlag'], menu['inclTax'], menu['activeTaxes'], menu['prcLvl']\n",
    "                    ))\n",
    "            except Exception as e:\n",
    "                print(\"Erro ao inserir detail_line/menu_item:\", e)\n",
    "\n",
    "    conn.commit()\n",
    "    cursor.close()\n",
    "    conn.close()\n",
    "    print(\"Dados inseridos com sucesso no MySQL!\")"
   ]
  },
  {
   "cell_type": "markdown",
   "id": "33106010",
   "metadata": {},
   "source": [
    "# Mostrando dados dentro do banco."
   ]
  },
  {
   "cell_type": "code",
   "execution_count": null,
   "id": "70dc7764",
   "metadata": {},
   "outputs": [
    {
     "data": {
      "text/html": [
       "<div>\n",
       "<style scoped>\n",
       "    .dataframe tbody tr th:only-of-type {\n",
       "        vertical-align: middle;\n",
       "    }\n",
       "\n",
       "    .dataframe tbody tr th {\n",
       "        vertical-align: top;\n",
       "    }\n",
       "\n",
       "    .dataframe thead th {\n",
       "        text-align: right;\n",
       "    }\n",
       "</style>\n",
       "<table border=\"1\" class=\"dataframe\">\n",
       "  <thead>\n",
       "    <tr style=\"text-align: right;\">\n",
       "      <th></th>\n",
       "      <th>guest_check_id</th>\n",
       "      <th>loc_ref</th>\n",
       "      <th>chk_num</th>\n",
       "      <th>opn_bus_dt</th>\n",
       "      <th>opn_utc</th>\n",
       "      <th>opn_lcl</th>\n",
       "      <th>clsd_bus_dt</th>\n",
       "      <th>clsd_utc</th>\n",
       "      <th>clsd_lcl</th>\n",
       "      <th>last_trans_utc</th>\n",
       "      <th>...</th>\n",
       "      <th>pay_ttl</th>\n",
       "      <th>bal_due_ttl</th>\n",
       "      <th>rvc_num</th>\n",
       "      <th>ot_num</th>\n",
       "      <th>oc_num</th>\n",
       "      <th>tbl_num</th>\n",
       "      <th>tbl_name</th>\n",
       "      <th>emp_num</th>\n",
       "      <th>num_srvc_rd</th>\n",
       "      <th>num_chk_prntd</th>\n",
       "    </tr>\n",
       "  </thead>\n",
       "  <tbody>\n",
       "    <tr>\n",
       "      <th>0</th>\n",
       "      <td>1122334455</td>\n",
       "      <td>99 CB CB</td>\n",
       "      <td>1234</td>\n",
       "      <td>2024-01-01</td>\n",
       "      <td>2024-01-01 09:09:09</td>\n",
       "      <td>2024-01-01 06:09:09</td>\n",
       "      <td>2024-01-01</td>\n",
       "      <td>2024-01-01 12:12:12</td>\n",
       "      <td>2024-01-01 09:12:12</td>\n",
       "      <td>2024-01-01 12:12:12</td>\n",
       "      <td>...</td>\n",
       "      <td>109.9</td>\n",
       "      <td>None</td>\n",
       "      <td>101</td>\n",
       "      <td>1</td>\n",
       "      <td>None</td>\n",
       "      <td>1</td>\n",
       "      <td>90</td>\n",
       "      <td>55555</td>\n",
       "      <td>3</td>\n",
       "      <td>2</td>\n",
       "    </tr>\n",
       "  </tbody>\n",
       "</table>\n",
       "<p>1 rows × 29 columns</p>\n",
       "</div>"
      ],
      "text/plain": [
       "   guest_check_id   loc_ref  chk_num  opn_bus_dt             opn_utc  \\\n",
       "0      1122334455  99 CB CB     1234  2024-01-01 2024-01-01 09:09:09   \n",
       "\n",
       "              opn_lcl clsd_bus_dt            clsd_utc            clsd_lcl  \\\n",
       "0 2024-01-01 06:09:09  2024-01-01 2024-01-01 12:12:12 2024-01-01 09:12:12   \n",
       "\n",
       "       last_trans_utc  ... pay_ttl bal_due_ttl rvc_num  ot_num  oc_num  \\\n",
       "0 2024-01-01 12:12:12  ...   109.9        None     101       1    None   \n",
       "\n",
       "   tbl_num tbl_name  emp_num  num_srvc_rd  num_chk_prntd  \n",
       "0        1       90    55555            3              2  \n",
       "\n",
       "[1 rows x 29 columns]"
      ]
     },
     "metadata": {},
     "output_type": "display_data"
    }
   ],
   "source": [
    "conn = pymysql.connect(**db_config)\n",
    "\n",
    "df = pd.read_sql(f\"SELECT * FROM guest_checks\", conn)\n",
    "display(df)\n",
    "\n",
    "conn.close()"
   ]
  }
 ],
 "metadata": {
  "kernelspec": {
   "display_name": ".venv",
   "language": "python",
   "name": "python3"
  },
  "language_info": {
   "codemirror_mode": {
    "name": "ipython",
    "version": 3
   },
   "file_extension": ".py",
   "mimetype": "text/x-python",
   "name": "python",
   "nbconvert_exporter": "python",
   "pygments_lexer": "ipython3",
   "version": "3.13.5"
  }
 },
 "nbformat": 4,
 "nbformat_minor": 5
}
